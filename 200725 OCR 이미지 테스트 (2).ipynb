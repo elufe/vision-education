{
 "cells": [
  {
   "cell_type": "code",
   "execution_count": 76,
   "metadata": {},
   "outputs": [
    {
     "name": "stdout",
     "output_type": "stream",
     "text": [
      "Requirement already satisfied: pytesseract in /Library/Frameworks/Python.framework/Versions/3.6/lib/python3.6/site-packages (0.3.4)\r\n",
      "Requirement already satisfied: Pillow in /Library/Frameworks/Python.framework/Versions/3.6/lib/python3.6/site-packages (from pytesseract) (6.2.1)\r\n"
     ]
    }
   ],
   "source": [
    "! pip install pytesseract"
   ]
  },
  {
   "cell_type": "code",
   "execution_count": 1,
   "metadata": {},
   "outputs": [],
   "source": [
    "from PIL import Image\n",
    "from pytesseract import *\n",
    "import re\n",
    "import cv2"
   ]
  },
  {
   "cell_type": "code",
   "execution_count": 2,
   "metadata": {},
   "outputs": [],
   "source": [
    "img = Image.open('ocr_test.jpg')"
   ]
  },
  {
   "cell_type": "code",
   "execution_count": 3,
   "metadata": {},
   "outputs": [
    {
     "name": "stdout",
     "output_type": "stream",
     "text": [
      "DETAIL INFORMATION\n",
      "\n",
      " \n",
      "\n",
      " \n",
      "\n",
      "머깨너비\n",
      "\n",
      "SIZE 1바0(단위:00)\n",
      "\n",
      " \n",
      "\n",
      "사이즈(5126)      055       066       067\n",
      "흥         Jheaet                       어깨너비      37.5      38.6      39.4\n",
      "멀               가슴둘레       88.3       93.6       98.4\n",
      "\n",
      "미\n",
      "소매길이        61        617       64.5\n",
      "총장        67.3       67.9       68.6\n",
      "|쿠               - 사이즈는 재는 방법에 따라 1~2em 정도 오차가 있을수 있습니다.\n",
      "\n",
      "SVAJK82                                                                     DETAIL CHECK\n",
      "\n",
      "더블 브레스티드 자켓\n",
      "\n",
      "COLOR — BEIGE(25)/D-NAVY(47)\n",
      "\n",
      "SIZE       055 /066 /067\n",
      "\n",
      "FABRIC 겉감:폴리에스터 96%+폴리우레탄 4%\n",
      "안감: 폴리에스터 100\n",
      "\n",
      "eK age\n",
      "\n",
      "- 뒤집어 단독세탁하십시오.\n",
      "\n",
      "- 세탁시 이염될 우려가 있 으니 주의 바랍니다.\n",
      "\n",
      "- 모든 의류의 첫 세탁은 드라이클리닝을 권장합니다.\n",
      "\n",
      "- 데님, 워싱, 컬러가 있는 모든 제품들은 단독 세탁을 권장하며\n",
      "세탁 부주의로 인해 훼손이 있을 경우 교환, 반품이 불가하오니\n",
      "참고해주세요.\n",
      "\n",
      " \n",
      "\n",
      " \n",
      "\n",
      " \n",
      "\n",
      " \n",
      "\n",
      " \n",
      "\n",
      "두께감\n",
      "(Thickness)                FS (Thin)           85 (Moderate)          £5 (Thick)\n",
      "비침                                로\n",
      "(See through)                        없음(006)                    살짝(나네6)                  비침(1060)\n",
      "촉                                                                 |\n",
      "(Elastictiy)                               #548 (Soft)                     (Moderate)                       TBE (Prick)\n",
      "핏감                                                               .\n",
      "(Lining)                        타이트(0914                 기본(5009 fit)                 22 (Loose)\n",
      "신축성                                                              =\n",
      "(Elasticity)                        없음(0006)                 5 (Moderate)                8(High)\n",
      "on                                ㆍ\n",
      "(Lining)                         있음(1060)                     없음(0006)\n",
      "원산지        베트남                                     CHECK IT\n",
      "Azdae  2019년 028\n",
      "제조자        (주)동광인터내셔날                          아그 One ©    Sper TS OnRP HT ere\n",
      "\n",
      "품질보증기간 구입일로부터 1년\n",
      "\n",
      "AIS 책임자    (주)동광인터내셔날/ 1588-2724\n",
      "\n",
      "단, 봉제 불량은 1년 경과 후에도 무상 수리 진행됩니다:\n",
      "소비자 부주의로 인한         반품 처리가 불가하며 수리 가\n",
      "능시에는 Sa 수리로 진행됩니디\n",
      "모델컷의 컬러는 자연광이나 조명의 영향으로 실제와 다소 다를\n",
      "수 있습니다. 꼭 디테일 컬러와 AMS 확인해주세요.\n"
     ]
    }
   ],
   "source": [
    "text = pytesseract.image_to_string(img, lang = 'kor+eng')\n",
    "print(text)\n",
    "#text"
   ]
  },
  {
   "cell_type": "code",
   "execution_count": 5,
   "metadata": {},
   "outputs": [
    {
     "data": {
      "text/plain": [
       "['DETAIL INFORMATION',\n",
       " '',\n",
       " ' ',\n",
       " '',\n",
       " ' ',\n",
       " '',\n",
       " '머깨너비',\n",
       " '',\n",
       " 'SIZE 1바0(단위:00)',\n",
       " '',\n",
       " ' ',\n",
       " '',\n",
       " '사이즈(5126)      055       066       067',\n",
       " '흥         Jheaet                       어깨너비      37.5      38.6      39.4',\n",
       " '멀               가슴둘레       88.3       93.6       98.4',\n",
       " '',\n",
       " '미',\n",
       " '소매길이        61        617       64.5',\n",
       " '총장        67.3       67.9       68.6',\n",
       " '|쿠               - 사이즈는 재는 방법에 따라 1~2em 정도 오차가 있을수 있습니다.',\n",
       " '',\n",
       " 'SVAJK82                                                                     DETAIL CHECK',\n",
       " '',\n",
       " '더블 브레스티드 자켓',\n",
       " '',\n",
       " 'COLOR — BEIGE(25)/D-NAVY(47)',\n",
       " '',\n",
       " 'SIZE       055 /066 /067',\n",
       " '',\n",
       " 'FABRIC 겉감:폴리에스터 96%+폴리우레탄 4%',\n",
       " '안감: 폴리에스터 100',\n",
       " '',\n",
       " 'eK age',\n",
       " '',\n",
       " '- 뒤집어 단독세탁하십시오.',\n",
       " '',\n",
       " '- 세탁시 이염될 우려가 있 으니 주의 바랍니다.',\n",
       " '',\n",
       " '- 모든 의류의 첫 세탁은 드라이클리닝을 권장합니다.',\n",
       " '',\n",
       " '- 데님, 워싱, 컬러가 있는 모든 제품들은 단독 세탁을 권장하며',\n",
       " '세탁 부주의로 인해 훼손이 있을 경우 교환, 반품이 불가하오니',\n",
       " '참고해주세요.',\n",
       " '',\n",
       " ' ',\n",
       " '',\n",
       " ' ',\n",
       " '',\n",
       " ' ',\n",
       " '',\n",
       " ' ',\n",
       " '',\n",
       " ' ',\n",
       " '',\n",
       " '두께감',\n",
       " '(Thickness)                FS (Thin)           85 (Moderate)          £5 (Thick)',\n",
       " '비침                                로',\n",
       " '(See through)                        없음(006)                    살짝(나네6)                  비침(1060)',\n",
       " '촉                                                                 |',\n",
       " '(Elastictiy)                               #548 (Soft)                     (Moderate)                       TBE (Prick)',\n",
       " '핏감                                                               .',\n",
       " '(Lining)                        타이트(0914                 기본(5009 fit)                 22 (Loose)',\n",
       " '신축성                                                              =',\n",
       " '(Elasticity)                        없음(0006)                 5 (Moderate)                8(High)',\n",
       " 'on                                ㆍ',\n",
       " '(Lining)                         있음(1060)                     없음(0006)',\n",
       " '원산지        베트남                                     CHECK IT',\n",
       " 'Azdae  2019년 028',\n",
       " '제조자        (주)동광인터내셔날                          아그 One ©    Sper TS OnRP HT ere',\n",
       " '',\n",
       " '품질보증기간 구입일로부터 1년',\n",
       " '',\n",
       " 'AIS 책임자    (주)동광인터내셔날/ 1588-2724',\n",
       " '',\n",
       " '단, 봉제 불량은 1년 경과 후에도 무상 수리 진행됩니다:',\n",
       " '소비자 부주의로 인한         반품 처리가 불가하며 수리 가',\n",
       " '능시에는 Sa 수리로 진행됩니디',\n",
       " '모델컷의 컬러는 자연광이나 조명의 영향으로 실제와 다소 다를',\n",
       " '수 있습니다. 꼭 디테일 컬러와 AMS 확인해주세요.']"
      ]
     },
     "execution_count": 5,
     "metadata": {},
     "output_type": "execute_result"
    }
   ],
   "source": [
    "size_table = re.split('\\n',text)\n",
    "size_table"
   ]
  },
  {
   "cell_type": "code",
   "execution_count": 6,
   "metadata": {},
   "outputs": [
    {
     "data": {
      "text/plain": [
       "['사이즈(5126)      055       066       067',\n",
       " '흥         Jheaet                       어깨너비      37.5      38.6      39.4',\n",
       " '멀               가슴둘레       88.3       93.6       98.4',\n",
       " '소매길이        61        617       64.5']"
      ]
     },
     "execution_count": 6,
     "metadata": {},
     "output_type": "execute_result"
    }
   ],
   "source": [
    "matchers = ['사이즈(','어깨너비','가슴둘레','소매길이','출장']\n",
    "size = [s for s in size_table if any(xs in s for xs in matchers)]\n",
    "size"
   ]
  },
  {
   "cell_type": "code",
   "execution_count": 7,
   "metadata": {},
   "outputs": [
    {
     "data": {
      "text/plain": [
       "'사이즈(5126)      055       066       067'"
      ]
     },
     "execution_count": 7,
     "metadata": {},
     "output_type": "execute_result"
    }
   ],
   "source": [
    "size[0]"
   ]
  },
  {
   "cell_type": "code",
   "execution_count": 8,
   "metadata": {},
   "outputs": [
    {
     "data": {
      "text/plain": [
       "'  38.6      39.4'"
      ]
     },
     "execution_count": 8,
     "metadata": {},
     "output_type": "execute_result"
    }
   ],
   "source": [
    "size[1][57:]"
   ]
  },
  {
   "cell_type": "code",
   "execution_count": 9,
   "metadata": {},
   "outputs": [
    {
     "data": {
      "text/plain": [
       "'  88.3       93.6       98.4'"
      ]
     },
     "execution_count": 9,
     "metadata": {},
     "output_type": "execute_result"
    }
   ],
   "source": [
    "size[2][25:]"
   ]
  },
  {
   "cell_type": "code",
   "execution_count": 10,
   "metadata": {},
   "outputs": [
    {
     "data": {
      "text/plain": [
       "''"
      ]
     },
     "execution_count": 10,
     "metadata": {},
     "output_type": "execute_result"
    }
   ],
   "source": [
    "size[3][42:]"
   ]
  },
  {
   "cell_type": "code",
   "execution_count": 13,
   "metadata": {},
   "outputs": [
    {
     "ename": "IndexError",
     "evalue": "list index out of range",
     "output_type": "error",
     "traceback": [
      "\u001b[1;31m---------------------------------------------------------------------------\u001b[0m",
      "\u001b[1;31mIndexError\u001b[0m                                Traceback (most recent call last)",
      "\u001b[1;32m<ipython-input-13-edce44bdbcd3>\u001b[0m in \u001b[0;36m<module>\u001b[1;34m\u001b[0m\n\u001b[1;32m----> 1\u001b[1;33m \u001b[0msize\u001b[0m\u001b[1;33m[\u001b[0m\u001b[1;36m4\u001b[0m\u001b[1;33m]\u001b[0m\u001b[1;33m\u001b[0m\u001b[1;33m\u001b[0m\u001b[0m\n\u001b[0m",
      "\u001b[1;31mIndexError\u001b[0m: list index out of range"
     ]
    }
   ],
   "source": [
    "size[4]"
   ]
  },
  {
   "cell_type": "code",
   "execution_count": 12,
   "metadata": {},
   "outputs": [
    {
     "ename": "IndexError",
     "evalue": "list index out of range",
     "output_type": "error",
     "traceback": [
      "\u001b[1;31m---------------------------------------------------------------------------\u001b[0m",
      "\u001b[1;31mIndexError\u001b[0m                                Traceback (most recent call last)",
      "\u001b[1;32m<ipython-input-12-911ea24d49a8>\u001b[0m in \u001b[0;36m<module>\u001b[1;34m\u001b[0m\n\u001b[0;32m      5\u001b[0m \u001b[0msize2\u001b[0m\u001b[1;33m.\u001b[0m\u001b[0mappend\u001b[0m\u001b[1;33m(\u001b[0m\u001b[0msize\u001b[0m\u001b[1;33m[\u001b[0m\u001b[1;36m2\u001b[0m\u001b[1;33m]\u001b[0m\u001b[1;33m[\u001b[0m\u001b[1;36m25\u001b[0m\u001b[1;33m:\u001b[0m\u001b[1;33m]\u001b[0m\u001b[1;33m)\u001b[0m\u001b[1;33m\u001b[0m\u001b[1;33m\u001b[0m\u001b[0m\n\u001b[0;32m      6\u001b[0m \u001b[0msize2\u001b[0m\u001b[1;33m.\u001b[0m\u001b[0mappend\u001b[0m\u001b[1;33m(\u001b[0m\u001b[0msize\u001b[0m\u001b[1;33m[\u001b[0m\u001b[1;36m3\u001b[0m\u001b[1;33m]\u001b[0m\u001b[1;33m[\u001b[0m\u001b[1;36m42\u001b[0m\u001b[1;33m:\u001b[0m\u001b[1;33m]\u001b[0m\u001b[1;33m)\u001b[0m\u001b[1;33m\u001b[0m\u001b[1;33m\u001b[0m\u001b[0m\n\u001b[1;32m----> 7\u001b[1;33m \u001b[0msize2\u001b[0m\u001b[1;33m.\u001b[0m\u001b[0mappend\u001b[0m\u001b[1;33m(\u001b[0m\u001b[0msize\u001b[0m\u001b[1;33m[\u001b[0m\u001b[1;36m4\u001b[0m\u001b[1;33m]\u001b[0m\u001b[1;33m)\u001b[0m\u001b[1;33m\u001b[0m\u001b[1;33m\u001b[0m\u001b[0m\n\u001b[0m\u001b[0;32m      8\u001b[0m \u001b[1;33m\u001b[0m\u001b[0m\n\u001b[0;32m      9\u001b[0m \u001b[0msize2\u001b[0m\u001b[1;33m\u001b[0m\u001b[1;33m\u001b[0m\u001b[0m\n",
      "\u001b[1;31mIndexError\u001b[0m: list index out of range"
     ]
    }
   ],
   "source": [
    "size2 = []\n",
    "\n",
    "size2.append(size[0])\n",
    "size2.append(size[1][57:])\n",
    "size2.append(size[2][25:])\n",
    "size2.append(size[3][42:])\n",
    "size2.append(size[4])\n",
    "\n",
    "size2"
   ]
  },
  {
   "cell_type": "code",
   "execution_count": 67,
   "metadata": {},
   "outputs": [
    {
     "data": {
      "text/plain": [
       "['사이즈(526) 055 066 067',\n",
       " '어깨너비 37.5 38.6 39.4',\n",
       " '가슴둘레 88.3 93.6 98.4',\n",
       " '소매길이 61 617 64.5',\n",
       " '출장 67.3 67.9 68.6']"
      ]
     },
     "execution_count": 67,
     "metadata": {},
     "output_type": "execute_result"
    }
   ],
   "source": [
    "for i in range(len(size2)):\n",
    "    size2[i] = re.sub('     ',' ', size2[i])\n",
    "    size2[i] = re.sub('    ',' ', size2[i])\n",
    "    size2[i] = re.sub('   ',' ', size2[i])\n",
    "    size2[i] = re.sub('  ',' ', size2[i])\n",
    "    size2[i] = re.sub(' ',' ', size2[i])\n",
    "    \n",
    "size2"
   ]
  },
  {
   "cell_type": "code",
   "execution_count": 68,
   "metadata": {},
   "outputs": [
    {
     "data": {
      "text/plain": [
       "[['사이즈(526)', '055', '066', '067'],\n",
       " ['어깨너비', '37.5', '38.6', '39.4'],\n",
       " ['가슴둘레', '88.3', '93.6', '98.4'],\n",
       " ['소매길이', '61', '617', '64.5'],\n",
       " ['출장', '67.3', '67.9', '68.6']]"
      ]
     },
     "execution_count": 68,
     "metadata": {},
     "output_type": "execute_result"
    }
   ],
   "source": [
    "size3 = []\n",
    "\n",
    "for i in range(len(size2)):\n",
    "    size3.append(size2[i].split(' '))\n",
    "    \n",
    "size3"
   ]
  },
  {
   "cell_type": "code",
   "execution_count": 69,
   "metadata": {},
   "outputs": [
    {
     "data": {
      "text/plain": [
       "array([['사이즈(526)', '055', '066', '067'],\n",
       "       ['어깨너비', '37.5', '38.6', '39.4'],\n",
       "       ['가슴둘레', '88.3', '93.6', '98.4'],\n",
       "       ['소매길이', '61', '617', '64.5'],\n",
       "       ['출장', '67.3', '67.9', '68.6']], dtype='<U8')"
      ]
     },
     "execution_count": 69,
     "metadata": {},
     "output_type": "execute_result"
    }
   ],
   "source": [
    "import numpy as np\n",
    "size4 = np.array(size3)\n",
    "size4"
   ]
  },
  {
   "cell_type": "code",
   "execution_count": 70,
   "metadata": {},
   "outputs": [
    {
     "data": {
      "text/plain": [
       "array([['사이즈(526)', '어깨너비', '가슴둘레', '소매길이', '출장'],\n",
       "       ['055', '37.5', '88.3', '61', '67.3'],\n",
       "       ['066', '38.6', '93.6', '617', '67.9'],\n",
       "       ['067', '39.4', '98.4', '64.5', '68.6']], dtype='<U8')"
      ]
     },
     "execution_count": 70,
     "metadata": {},
     "output_type": "execute_result"
    }
   ],
   "source": [
    "size4.T"
   ]
  },
  {
   "cell_type": "code",
   "execution_count": 71,
   "metadata": {},
   "outputs": [],
   "source": [
    "import pandas as pd"
   ]
  },
  {
   "cell_type": "code",
   "execution_count": 72,
   "metadata": {},
   "outputs": [
    {
     "data": {
      "text/html": [
       "<div>\n",
       "<style scoped>\n",
       "    .dataframe tbody tr th:only-of-type {\n",
       "        vertical-align: middle;\n",
       "    }\n",
       "\n",
       "    .dataframe tbody tr th {\n",
       "        vertical-align: top;\n",
       "    }\n",
       "\n",
       "    .dataframe thead th {\n",
       "        text-align: right;\n",
       "    }\n",
       "</style>\n",
       "<table border=\"1\" class=\"dataframe\">\n",
       "  <thead>\n",
       "    <tr style=\"text-align: right;\">\n",
       "      <th></th>\n",
       "      <th>0</th>\n",
       "      <th>1</th>\n",
       "      <th>2</th>\n",
       "      <th>3</th>\n",
       "      <th>4</th>\n",
       "    </tr>\n",
       "  </thead>\n",
       "  <tbody>\n",
       "    <tr>\n",
       "      <th>0</th>\n",
       "      <td>사이즈(526)</td>\n",
       "      <td>어깨너비</td>\n",
       "      <td>가슴둘레</td>\n",
       "      <td>소매길이</td>\n",
       "      <td>출장</td>\n",
       "    </tr>\n",
       "    <tr>\n",
       "      <th>1</th>\n",
       "      <td>055</td>\n",
       "      <td>37.5</td>\n",
       "      <td>88.3</td>\n",
       "      <td>61</td>\n",
       "      <td>67.3</td>\n",
       "    </tr>\n",
       "    <tr>\n",
       "      <th>2</th>\n",
       "      <td>066</td>\n",
       "      <td>38.6</td>\n",
       "      <td>93.6</td>\n",
       "      <td>617</td>\n",
       "      <td>67.9</td>\n",
       "    </tr>\n",
       "    <tr>\n",
       "      <th>3</th>\n",
       "      <td>067</td>\n",
       "      <td>39.4</td>\n",
       "      <td>98.4</td>\n",
       "      <td>64.5</td>\n",
       "      <td>68.6</td>\n",
       "    </tr>\n",
       "  </tbody>\n",
       "</table>\n",
       "</div>"
      ],
      "text/plain": [
       "          0     1     2     3     4\n",
       "0  사이즈(526)  어깨너비  가슴둘레  소매길이    출장\n",
       "1       055  37.5  88.3    61  67.3\n",
       "2       066  38.6  93.6   617  67.9\n",
       "3       067  39.4  98.4  64.5  68.6"
      ]
     },
     "execution_count": 72,
     "metadata": {},
     "output_type": "execute_result"
    }
   ],
   "source": [
    "df = pd.DataFrame(size4.T)\n",
    "df"
   ]
  },
  {
   "cell_type": "code",
   "execution_count": 73,
   "metadata": {},
   "outputs": [
    {
     "data": {
      "text/html": [
       "<div>\n",
       "<style scoped>\n",
       "    .dataframe tbody tr th:only-of-type {\n",
       "        vertical-align: middle;\n",
       "    }\n",
       "\n",
       "    .dataframe tbody tr th {\n",
       "        vertical-align: top;\n",
       "    }\n",
       "\n",
       "    .dataframe thead th {\n",
       "        text-align: right;\n",
       "    }\n",
       "</style>\n",
       "<table border=\"1\" class=\"dataframe\">\n",
       "  <thead>\n",
       "    <tr style=\"text-align: right;\">\n",
       "      <th></th>\n",
       "      <th>0</th>\n",
       "      <th>1</th>\n",
       "      <th>2</th>\n",
       "      <th>3</th>\n",
       "      <th>4</th>\n",
       "    </tr>\n",
       "  </thead>\n",
       "  <tbody>\n",
       "    <tr>\n",
       "      <th>1</th>\n",
       "      <td>055</td>\n",
       "      <td>37.5</td>\n",
       "      <td>88.3</td>\n",
       "      <td>61</td>\n",
       "      <td>67.3</td>\n",
       "    </tr>\n",
       "    <tr>\n",
       "      <th>2</th>\n",
       "      <td>066</td>\n",
       "      <td>38.6</td>\n",
       "      <td>93.6</td>\n",
       "      <td>617</td>\n",
       "      <td>67.9</td>\n",
       "    </tr>\n",
       "    <tr>\n",
       "      <th>3</th>\n",
       "      <td>067</td>\n",
       "      <td>39.4</td>\n",
       "      <td>98.4</td>\n",
       "      <td>64.5</td>\n",
       "      <td>68.6</td>\n",
       "    </tr>\n",
       "  </tbody>\n",
       "</table>\n",
       "</div>"
      ],
      "text/plain": [
       "     0     1     2     3     4\n",
       "1  055  37.5  88.3    61  67.3\n",
       "2  066  38.6  93.6   617  67.9\n",
       "3  067  39.4  98.4  64.5  68.6"
      ]
     },
     "execution_count": 73,
     "metadata": {},
     "output_type": "execute_result"
    }
   ],
   "source": [
    "df.loc[[1,2,3]]"
   ]
  },
  {
   "cell_type": "code",
   "execution_count": 74,
   "metadata": {},
   "outputs": [
    {
     "data": {
      "text/html": [
       "<div>\n",
       "<style scoped>\n",
       "    .dataframe tbody tr th:only-of-type {\n",
       "        vertical-align: middle;\n",
       "    }\n",
       "\n",
       "    .dataframe tbody tr th {\n",
       "        vertical-align: top;\n",
       "    }\n",
       "\n",
       "    .dataframe thead th {\n",
       "        text-align: right;\n",
       "    }\n",
       "</style>\n",
       "<table border=\"1\" class=\"dataframe\">\n",
       "  <thead>\n",
       "    <tr style=\"text-align: right;\">\n",
       "      <th></th>\n",
       "      <th>사이즈</th>\n",
       "      <th>어깨너비</th>\n",
       "      <th>가슴둘레</th>\n",
       "      <th>소매길이</th>\n",
       "      <th>출장</th>\n",
       "    </tr>\n",
       "  </thead>\n",
       "  <tbody>\n",
       "    <tr>\n",
       "      <th>1</th>\n",
       "      <td>055</td>\n",
       "      <td>37.5</td>\n",
       "      <td>88.3</td>\n",
       "      <td>61</td>\n",
       "      <td>67.3</td>\n",
       "    </tr>\n",
       "    <tr>\n",
       "      <th>2</th>\n",
       "      <td>066</td>\n",
       "      <td>38.6</td>\n",
       "      <td>93.6</td>\n",
       "      <td>617</td>\n",
       "      <td>67.9</td>\n",
       "    </tr>\n",
       "    <tr>\n",
       "      <th>3</th>\n",
       "      <td>067</td>\n",
       "      <td>39.4</td>\n",
       "      <td>98.4</td>\n",
       "      <td>64.5</td>\n",
       "      <td>68.6</td>\n",
       "    </tr>\n",
       "  </tbody>\n",
       "</table>\n",
       "</div>"
      ],
      "text/plain": [
       "   사이즈  어깨너비  가슴둘레  소매길이    출장\n",
       "1  055  37.5  88.3    61  67.3\n",
       "2  066  38.6  93.6   617  67.9\n",
       "3  067  39.4  98.4  64.5  68.6"
      ]
     },
     "execution_count": 74,
     "metadata": {},
     "output_type": "execute_result"
    }
   ],
   "source": [
    "df2 = df.loc[[1,2,3]]\n",
    "df2.columns = ['사이즈', '어깨너비', '가슴둘레', '소매길이', '출장']\n",
    "df2"
   ]
  },
  {
   "cell_type": "code",
   "execution_count": 75,
   "metadata": {},
   "outputs": [
    {
     "data": {
      "text/html": [
       "<div>\n",
       "<style scoped>\n",
       "    .dataframe tbody tr th:only-of-type {\n",
       "        vertical-align: middle;\n",
       "    }\n",
       "\n",
       "    .dataframe tbody tr th {\n",
       "        vertical-align: top;\n",
       "    }\n",
       "\n",
       "    .dataframe thead th {\n",
       "        text-align: right;\n",
       "    }\n",
       "</style>\n",
       "<table border=\"1\" class=\"dataframe\">\n",
       "  <thead>\n",
       "    <tr style=\"text-align: right;\">\n",
       "      <th></th>\n",
       "      <th>사이즈</th>\n",
       "      <th>어깨너비</th>\n",
       "      <th>가슴둘레</th>\n",
       "      <th>소매길이</th>\n",
       "      <th>출장</th>\n",
       "    </tr>\n",
       "  </thead>\n",
       "  <tbody>\n",
       "    <tr>\n",
       "      <th>1</th>\n",
       "      <td>55</td>\n",
       "      <td>37.5</td>\n",
       "      <td>88.3</td>\n",
       "      <td>61</td>\n",
       "      <td>67.3</td>\n",
       "    </tr>\n",
       "    <tr>\n",
       "      <th>2</th>\n",
       "      <td>66</td>\n",
       "      <td>38.6</td>\n",
       "      <td>93.6</td>\n",
       "      <td>617</td>\n",
       "      <td>67.9</td>\n",
       "    </tr>\n",
       "    <tr>\n",
       "      <th>3</th>\n",
       "      <td>67</td>\n",
       "      <td>39.4</td>\n",
       "      <td>98.4</td>\n",
       "      <td>64.5</td>\n",
       "      <td>68.6</td>\n",
       "    </tr>\n",
       "  </tbody>\n",
       "</table>\n",
       "</div>"
      ],
      "text/plain": [
       "   사이즈  어깨너비  가슴둘레  소매길이    출장\n",
       "1   55  37.5  88.3    61  67.3\n",
       "2   66  38.6  93.6   617  67.9\n",
       "3   67  39.4  98.4  64.5  68.6"
      ]
     },
     "execution_count": 75,
     "metadata": {},
     "output_type": "execute_result"
    }
   ],
   "source": [
    "df2['사이즈'] = df2['사이즈'].astype(int)\n",
    "df2"
   ]
  },
  {
   "cell_type": "code",
   "execution_count": null,
   "metadata": {},
   "outputs": [],
   "source": []
  }
 ],
 "metadata": {
  "kernelspec": {
   "display_name": "Python 3",
   "language": "python",
   "name": "python3"
  },
  "language_info": {
   "codemirror_mode": {
    "name": "ipython",
    "version": 3
   },
   "file_extension": ".py",
   "mimetype": "text/x-python",
   "name": "python",
   "nbconvert_exporter": "python",
   "pygments_lexer": "ipython3",
   "version": "3.6.8"
  }
 },
 "nbformat": 4,
 "nbformat_minor": 2
}
