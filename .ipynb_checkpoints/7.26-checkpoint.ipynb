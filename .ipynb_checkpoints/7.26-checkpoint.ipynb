{
 "cells": [
  {
   "cell_type": "code",
   "execution_count": 23,
   "metadata": {},
   "outputs": [
    {
     "name": "stdout",
     "output_type": "stream",
     "text": [
      "(287, 346, 71, 106)\n",
      "(61, 288, 129, 128)\n",
      "(398, 270, 58, 60)\n",
      "(219, 220, 111, 96)\n",
      "(33, 115, 117, 142)\n",
      "(369, 105, 111, 102)\n",
      "(189, 44, 130, 136)\n"
     ]
    }
   ],
   "source": [
    "import cv2\n",
    "import numpy as np\n",
    "\n",
    "obj = cv2.imread('./8-image/spades.png',cv2.IMREAD_GRAYSCALE)\n",
    "src = cv2.imread('./8-image/symbols.png',cv2.IMREAD_GRAYSCALE)\n",
    "\n",
    "_, obj_bin = cv2.threshold(obj, 128,255, cv2.THRESH_BINARY_INV)\n",
    "_,obj_contours,_ = cv2.findContours(obj_bin, cv2.RETR_EXTERNAL, cv2.CHAIN_APPROX_NONE)\n",
    "\n",
    "obj_pts = obj_contours[0]\n",
    "\n",
    "_, src_bin = cv2.threshold(src, 128,255, cv2.THRESH_BINARY_INV)\n",
    "_,src_contours,_ = cv2.findContours(src_bin, cv2.RETR_EXTERNAL, cv2.CHAIN_APPROX_NONE)\n",
    "\n",
    "dst = cv2.cvtColor(src, cv2.COLOR_GRAY2BGR)\n",
    "\n",
    "for pts in src_contours:\n",
    "    if cv2.contourArea(pts) < 100 :\n",
    "        continue\n",
    "    \n",
    "    rc = cv2.boundingRect(pts)\n",
    "    print(rc)\n",
    "    cv2.rectangle(dst, rc[0:2], rc[2:4], (255,0,0), 2)\n",
    "    \n",
    "    dist = cv2.matchShapes(obj_pts, pts, cv2.CONTOURS_MATCH_I3, 0)\n",
    "    \n",
    "    cv2.putText(dst, str(round(dist,4)), (rc[0], rc[1]-3), cv2.FONT_HERSHEY_COMPLEX,0.6,\n",
    "               (255, 0, 0), 1, cv2.LINE_AA)\n",
    "    if dist < 0.1:\n",
    "        cv2.rectangle(dst, rc[0:2], rc[2:4], (0, 0, 255), 2)\n",
    "        \n",
    "\n",
    "cv2.imshow('a',obj)\n",
    "cv2.imshow('b',dst)\n",
    "\n",
    "cv2.waitKey()\n",
    "cv2.destroyAllWindows()"
   ]
  },
  {
   "cell_type": "code",
   "execution_count": 25,
   "metadata": {},
   "outputs": [],
   "source": [
    "src = cv2.imread('./8-image/template_matching_ex1.png',cv2.IMREAD_GRAYSCALE)\n",
    "templ = cv2.imread('./8-image/template_matching_ex2.png',cv2.IMREAD_GRAYSCALE)\n",
    "\n",
    "res = cv2.matchTemplate(src, templ, cv2.TM_CCOEFF_NORMED)\n",
    "\n",
    "res_norm = cv2.normalize(res, None, 0, 255, cv2.NORM_MINMAX, cv2.CV_8U)\n",
    "\n",
    "# min 값, max 값, min 위치, max 위치\n",
    "_, _, minloc, maxloc = cv2.minMaxLoc(res)\n",
    "\n",
    "th, tw = templ.shape[:2]\n",
    "\n",
    "dst = cv2.cvtColor(src, cv2.COLOR_GRAY2BGR)\n",
    "\n",
    "cv2.rectangle(dst, maxloc, (maxloc[0]+tw, maxloc[1]+th), (0,0,255), 2)\n",
    "\n",
    "cv2.imshow('a', res_norm)\n",
    "cv2.imshow('b', dst)\n",
    "\n",
    "cv2.waitKey()\n",
    "cv2.destroyAllWindows()"
   ]
  },
  {
   "cell_type": "code",
   "execution_count": 33,
   "metadata": {},
   "outputs": [],
   "source": [
    "src = cv2.imread('cascade_Ex.jpg')\n",
    "\n",
    "classifier1 = cv2.CascadeClassifier('./8-image/haarcascade_frontalface_alt.xml')\n",
    "classifier2 = cv2.CascadeClassifier('./8-image/haarcascade_eye.xml')\n",
    "\n",
    "gray = cv2.cvtColor(src, cv2.COLOR_BGR2GRAY)\n",
    "faces = classifier1.detectMultiScale(gray)\n",
    "eyes = classifier2.detectMultiScale(gray)\n",
    "\n",
    "for (x,y,w,h) in faces:\n",
    "    cv2.rectangle(src, (x,y),(x+w,y+h), (0,0,255), 2)\n",
    "for (x,y,w,h) in eyes:\n",
    "    cv2.rectangle(src, (x,y),(x+w,y+h), (255,0,0), 2)\n",
    "    \n",
    "cv2.imshow('src',src)\n",
    "cv2.waitKey()\n",
    "cv2.destroyAllWindows()"
   ]
  },
  {
   "cell_type": "code",
   "execution_count": 34,
   "metadata": {},
   "outputs": [
    {
     "ename": "NameError",
     "evalue": "name 'hog' is not defined",
     "output_type": "error",
     "traceback": [
      "\u001b[1;31m---------------------------------------------------------------------------\u001b[0m",
      "\u001b[1;31mNameError\u001b[0m                                 Traceback (most recent call last)",
      "\u001b[1;32m<ipython-input-34-6daa5241ade5>\u001b[0m in \u001b[0;36m<module>\u001b[1;34m\u001b[0m\n\u001b[0;32m      1\u001b[0m \u001b[0mcap\u001b[0m \u001b[1;33m=\u001b[0m \u001b[0mcv2\u001b[0m\u001b[1;33m.\u001b[0m\u001b[0mimread\u001b[0m\u001b[1;33m(\u001b[0m\u001b[1;34m'./8-image/walking.avi'\u001b[0m\u001b[1;33m)\u001b[0m\u001b[1;33m\u001b[0m\u001b[1;33m\u001b[0m\u001b[0m\n\u001b[1;32m----> 2\u001b[1;33m \u001b[0mhog\u001b[0m\u001b[1;33m.\u001b[0m\u001b[0msetSVMDetector\u001b[0m\u001b[1;33m(\u001b[0m\u001b[0mcv2\u001b[0m\u001b[1;33m.\u001b[0m\u001b[0mHOGDescriptor_getDefaultPeopleDetector\u001b[0m\u001b[1;33m(\u001b[0m\u001b[1;33m)\u001b[0m\u001b[1;33m)\u001b[0m\u001b[1;33m\u001b[0m\u001b[1;33m\u001b[0m\u001b[0m\n\u001b[0m\u001b[0;32m      3\u001b[0m \u001b[1;33m\u001b[0m\u001b[0m\n\u001b[0;32m      4\u001b[0m \u001b[1;32mwhile\u001b[0m \u001b[1;32mTrue\u001b[0m\u001b[1;33m:\u001b[0m\u001b[1;33m\u001b[0m\u001b[1;33m\u001b[0m\u001b[0m\n\u001b[0;32m      5\u001b[0m     \u001b[0mret\u001b[0m\u001b[1;33m,\u001b[0m \u001b[0mframe\u001b[0m \u001b[1;33m=\u001b[0m \u001b[0mcap\u001b[0m\u001b[1;33m.\u001b[0m\u001b[0mread\u001b[0m\u001b[1;33m(\u001b[0m\u001b[1;33m)\u001b[0m\u001b[1;33m\u001b[0m\u001b[1;33m\u001b[0m\u001b[0m\n",
      "\u001b[1;31mNameError\u001b[0m: name 'hog' is not defined"
     ]
    }
   ],
   "source": [
    "cap = cv2.imread('./8-image/walking.avi')\n",
    "\n",
    "hog.setSVMDetector(cv2.HOGDescriptor_getDefaultPeopleDetector())\n",
    "\n",
    "while True:\n",
    "    ret, frame = cap.read()\n",
    "    if not ret:\n",
    "        break\n",
    "        \n",
    "    detected, _ = hog.detectMultiScale(frame)\n",
    "    \n",
    "    for (x,y,w,h) in detected:\n",
    "        cv2.rectangle(frame, (x,y), (x+w, y+h), (0, 255, 0),3)\n",
    "    cv2.imshow('frame', frame)\n",
    "    if cv2.waitKey(10) == 27:\n",
    "        break\n",
    "        \n",
    "cv2.destroyAllWindows()"
   ]
  },
  {
   "cell_type": "code",
   "execution_count": null,
   "metadata": {},
   "outputs": [],
   "source": []
  }
 ],
 "metadata": {
  "kernelspec": {
   "display_name": "Python 3",
   "language": "python",
   "name": "python3"
  },
  "language_info": {
   "codemirror_mode": {
    "name": "ipython",
    "version": 3
   },
   "file_extension": ".py",
   "mimetype": "text/x-python",
   "name": "python",
   "nbconvert_exporter": "python",
   "pygments_lexer": "ipython3",
   "version": "3.6.8"
  }
 },
 "nbformat": 4,
 "nbformat_minor": 2
}
