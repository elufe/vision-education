{
 "cells": [
  {
   "cell_type": "code",
   "execution_count": 20,
   "metadata": {},
   "outputs": [
    {
     "name": "stdout",
     "output_type": "stream",
     "text": [
      "304\n",
      "hexagon\n",
      "248\n",
      "decagon\n",
      "7\n",
      "264\n",
      "120\n",
      "rectangle\n",
      "641\n",
      "rectangle\n",
      "276\n",
      "rectangle\n",
      "4\n",
      "rectangle\n",
      "197\n",
      "255\n",
      "rectangle\n",
      "271\n",
      "184\n",
      "8\n",
      "octagon\n",
      "232\n",
      "215\n"
     ]
    }
   ],
   "source": [
    "import cv2\n",
    "\n",
    "img = cv2.imread('./polygon.png')\n",
    "\n",
    "img2 = img.copy()\n",
    "img2 = cv2.cvtColor(img2, cv2.COLOR_BGR2GRAY)\n",
    "img2 = cv2.threshold(img2, 0, 255, cv2.THRESH_BINARY_INV|cv2.THRESH_OTSU)[1]\n",
    "\n",
    "_,contours, hierarchy = cv2.findContours(img2, cv2.RETR_EXTERNAL, cv2.CHAIN_APPROX_SIMPLE)\n",
    "\n",
    "\n",
    "for cnt in contours:\n",
    "    size = len(cnt)\n",
    "    print(size)\n",
    "\n",
    "    epsilon = 0.005 * cv2.arcLength(cnt, True)\n",
    "    approx = cv2.approxPolyDP(cnt, epsilon, True)\n",
    "\n",
    "    size = len(approx)\n",
    "    #print(size)\n",
    "\n",
    "    cv2.line(img, tuple(approx[0][0]), tuple(approx[size-1][0]), (0, 255, 0), 3)\n",
    "    for k in range(size-1):\n",
    "        cv2.line(img, tuple(approx[k][0]), tuple(approx[k+1][0]), (0, 255, 0), 3)\n",
    "\n",
    "    if cv2.isContourConvex(approx):\n",
    "        if size == 3:\n",
    "            x,y,w,h = cv2.boundingRect(cnt)\n",
    "            cv2.rectangle(img, (x,y), (x+w,y+h), (0,0,255), 3)\n",
    "        elif size == 4:\n",
    "            x,y,w,h = cv2.boundingRect(cnt)\n",
    "            cv2.rectangle(img, (x,y), (x+w,y+h), (0,0,255), 3)\n",
    "        elif size == 5:\n",
    "            x,y,w,h = cv2.boundingRect(cnt)\n",
    "            cv2.rectangle(img, (x,y), (x+w,y+h), (0,0,255), 3)\n",
    "        elif size == 6:\n",
    "            x,y,w,h = cv2.boundingRect(cnt)\n",
    "            cv2.rectangle(img, (x,y), (x+w,y+h), (0,0,255), 3)\n",
    "        elif size == 8:\n",
    "            x,y,w,h = cv2.boundingRect(cnt)\n",
    "            cv2.rectangle(img, (x,y), (x+w,y+h), (0,0,255), 3)\n",
    "        elif size == 10:\n",
    "            x,y,w,h = cv2.boundingRect(cnt)\n",
    "            cv2.rectangle(img, (x,y), (x+w,y+h), (0,0,255), 3)\n",
    "        \n",
    "\n",
    "\n",
    "cv2.imshow('a', img)\n",
    "cv2.waitKey()\n",
    "cv2.destroyAllWindows()"
   ]
  },
  {
   "cell_type": "code",
   "execution_count": null,
   "metadata": {},
   "outputs": [],
   "source": []
  }
 ],
 "metadata": {
  "kernelspec": {
   "display_name": "Python 3",
   "language": "python",
   "name": "python3"
  },
  "language_info": {
   "codemirror_mode": {
    "name": "ipython",
    "version": 3
   },
   "file_extension": ".py",
   "mimetype": "text/x-python",
   "name": "python",
   "nbconvert_exporter": "python",
   "pygments_lexer": "ipython3",
   "version": "3.6.8"
  }
 },
 "nbformat": 4,
 "nbformat_minor": 2
}
